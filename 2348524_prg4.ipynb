{
  "nbformat": 4,
  "nbformat_minor": 0,
  "metadata": {
    "colab": {
      "provenance": [],
      "include_colab_link": true
    },
    "kernelspec": {
      "name": "python3",
      "display_name": "Python 3"
    },
    "language_info": {
      "name": "python"
    }
  },
  "cells": [
    {
      "cell_type": "markdown",
      "metadata": {
        "id": "view-in-github",
        "colab_type": "text"
      },
      "source": [
        "<a href=\"https://colab.research.google.com/github/karthikeyan0726/2348524_prg4/blob/main/2348524_prg4.ipynb\" target=\"_parent\"><img src=\"https://colab.research.google.com/assets/colab-badge.svg\" alt=\"Open In Colab\"/></a>"
      ]
    },
    {
      "cell_type": "code",
      "execution_count": null,
      "metadata": {
        "id": "9hcNWFjaC2hh"
      },
      "outputs": [],
      "source": [
        "import numpy as np\n",
        "import pandas as pd\n",
        "import matplotlib.pyplot as plt\n",
        "from sklearn.preprocessing import PolynomialFeatures"
      ]
    },
    {
      "cell_type": "code",
      "source": [
        "df=pd.read_csv('/content/Program_4_Dataset - Program_4_Dataset.csv')\n",
        "df"
      ],
      "metadata": {
        "colab": {
          "base_uri": "https://localhost:8080/",
          "height": 423
        },
        "id": "d8rrDBZ-Dpla",
        "outputId": "3e3ac417-75a4-4169-fbb5-8a7b7b62c1f3"
      },
      "execution_count": null,
      "outputs": [
        {
          "output_type": "execute_result",
          "data": {
            "text/plain": [
              "      index  OS_Time_Stamp  Temperature  Pressure  Humidity  \\\n",
              "0         0     1456761674         17.7    1015.2      76.4   \n",
              "1         1     1456761733         17.7    1015.3      76.4   \n",
              "2         2     1456761792         17.7    1015.3      76.5   \n",
              "3         3     1456761853         17.7    1015.3      76.7   \n",
              "4         4     1456761912         17.6    1015.2      76.8   \n",
              "...     ...            ...          ...       ...       ...   \n",
              "2873    118     1456768752         16.7    1015.1      81.9   \n",
              "2874    119     1456768823         16.7    1015.1      82.0   \n",
              "2875    120     1456768873         16.7    1015.1      81.9   \n",
              "2876    121     1456768932         16.7    1015.1      81.7   \n",
              "2877    122     1456768992         16.6    1015.1      81.4   \n",
              "\n",
              "                      TimeStamp  \n",
              "0     2016-03-01 00:01:14+08:00  \n",
              "1     2016-03-01 00:02:13+08:00  \n",
              "2     2016-03-01 00:03:12+08:00  \n",
              "3     2016-03-01 00:04:13+08:00  \n",
              "4     2016-03-01 00:05:12+08:00  \n",
              "...                         ...  \n",
              "2873  2016-03-01 01:59:12+08:00  \n",
              "2874  2016-03-01 02:00:23+08:00  \n",
              "2875  2016-03-01 02:01:13+08:00  \n",
              "2876  2016-03-01 02:02:12+08:00  \n",
              "2877  2016-03-01 02:03:12+08:00  \n",
              "\n",
              "[2878 rows x 6 columns]"
            ],
            "text/html": [
              "\n",
              "  <div id=\"df-e399edeb-360d-45d3-947e-7502efee6660\" class=\"colab-df-container\">\n",
              "    <div>\n",
              "<style scoped>\n",
              "    .dataframe tbody tr th:only-of-type {\n",
              "        vertical-align: middle;\n",
              "    }\n",
              "\n",
              "    .dataframe tbody tr th {\n",
              "        vertical-align: top;\n",
              "    }\n",
              "\n",
              "    .dataframe thead th {\n",
              "        text-align: right;\n",
              "    }\n",
              "</style>\n",
              "<table border=\"1\" class=\"dataframe\">\n",
              "  <thead>\n",
              "    <tr style=\"text-align: right;\">\n",
              "      <th></th>\n",
              "      <th>index</th>\n",
              "      <th>OS_Time_Stamp</th>\n",
              "      <th>Temperature</th>\n",
              "      <th>Pressure</th>\n",
              "      <th>Humidity</th>\n",
              "      <th>TimeStamp</th>\n",
              "    </tr>\n",
              "  </thead>\n",
              "  <tbody>\n",
              "    <tr>\n",
              "      <th>0</th>\n",
              "      <td>0</td>\n",
              "      <td>1456761674</td>\n",
              "      <td>17.7</td>\n",
              "      <td>1015.2</td>\n",
              "      <td>76.4</td>\n",
              "      <td>2016-03-01 00:01:14+08:00</td>\n",
              "    </tr>\n",
              "    <tr>\n",
              "      <th>1</th>\n",
              "      <td>1</td>\n",
              "      <td>1456761733</td>\n",
              "      <td>17.7</td>\n",
              "      <td>1015.3</td>\n",
              "      <td>76.4</td>\n",
              "      <td>2016-03-01 00:02:13+08:00</td>\n",
              "    </tr>\n",
              "    <tr>\n",
              "      <th>2</th>\n",
              "      <td>2</td>\n",
              "      <td>1456761792</td>\n",
              "      <td>17.7</td>\n",
              "      <td>1015.3</td>\n",
              "      <td>76.5</td>\n",
              "      <td>2016-03-01 00:03:12+08:00</td>\n",
              "    </tr>\n",
              "    <tr>\n",
              "      <th>3</th>\n",
              "      <td>3</td>\n",
              "      <td>1456761853</td>\n",
              "      <td>17.7</td>\n",
              "      <td>1015.3</td>\n",
              "      <td>76.7</td>\n",
              "      <td>2016-03-01 00:04:13+08:00</td>\n",
              "    </tr>\n",
              "    <tr>\n",
              "      <th>4</th>\n",
              "      <td>4</td>\n",
              "      <td>1456761912</td>\n",
              "      <td>17.6</td>\n",
              "      <td>1015.2</td>\n",
              "      <td>76.8</td>\n",
              "      <td>2016-03-01 00:05:12+08:00</td>\n",
              "    </tr>\n",
              "    <tr>\n",
              "      <th>...</th>\n",
              "      <td>...</td>\n",
              "      <td>...</td>\n",
              "      <td>...</td>\n",
              "      <td>...</td>\n",
              "      <td>...</td>\n",
              "      <td>...</td>\n",
              "    </tr>\n",
              "    <tr>\n",
              "      <th>2873</th>\n",
              "      <td>118</td>\n",
              "      <td>1456768752</td>\n",
              "      <td>16.7</td>\n",
              "      <td>1015.1</td>\n",
              "      <td>81.9</td>\n",
              "      <td>2016-03-01 01:59:12+08:00</td>\n",
              "    </tr>\n",
              "    <tr>\n",
              "      <th>2874</th>\n",
              "      <td>119</td>\n",
              "      <td>1456768823</td>\n",
              "      <td>16.7</td>\n",
              "      <td>1015.1</td>\n",
              "      <td>82.0</td>\n",
              "      <td>2016-03-01 02:00:23+08:00</td>\n",
              "    </tr>\n",
              "    <tr>\n",
              "      <th>2875</th>\n",
              "      <td>120</td>\n",
              "      <td>1456768873</td>\n",
              "      <td>16.7</td>\n",
              "      <td>1015.1</td>\n",
              "      <td>81.9</td>\n",
              "      <td>2016-03-01 02:01:13+08:00</td>\n",
              "    </tr>\n",
              "    <tr>\n",
              "      <th>2876</th>\n",
              "      <td>121</td>\n",
              "      <td>1456768932</td>\n",
              "      <td>16.7</td>\n",
              "      <td>1015.1</td>\n",
              "      <td>81.7</td>\n",
              "      <td>2016-03-01 02:02:12+08:00</td>\n",
              "    </tr>\n",
              "    <tr>\n",
              "      <th>2877</th>\n",
              "      <td>122</td>\n",
              "      <td>1456768992</td>\n",
              "      <td>16.6</td>\n",
              "      <td>1015.1</td>\n",
              "      <td>81.4</td>\n",
              "      <td>2016-03-01 02:03:12+08:00</td>\n",
              "    </tr>\n",
              "  </tbody>\n",
              "</table>\n",
              "<p>2878 rows × 6 columns</p>\n",
              "</div>\n",
              "    <div class=\"colab-df-buttons\">\n",
              "\n",
              "  <div class=\"colab-df-container\">\n",
              "    <button class=\"colab-df-convert\" onclick=\"convertToInteractive('df-e399edeb-360d-45d3-947e-7502efee6660')\"\n",
              "            title=\"Convert this dataframe to an interactive table.\"\n",
              "            style=\"display:none;\">\n",
              "\n",
              "  <svg xmlns=\"http://www.w3.org/2000/svg\" height=\"24px\" viewBox=\"0 -960 960 960\">\n",
              "    <path d=\"M120-120v-720h720v720H120Zm60-500h600v-160H180v160Zm220 220h160v-160H400v160Zm0 220h160v-160H400v160ZM180-400h160v-160H180v160Zm440 0h160v-160H620v160ZM180-180h160v-160H180v160Zm440 0h160v-160H620v160Z\"/>\n",
              "  </svg>\n",
              "    </button>\n",
              "\n",
              "  <style>\n",
              "    .colab-df-container {\n",
              "      display:flex;\n",
              "      gap: 12px;\n",
              "    }\n",
              "\n",
              "    .colab-df-convert {\n",
              "      background-color: #E8F0FE;\n",
              "      border: none;\n",
              "      border-radius: 50%;\n",
              "      cursor: pointer;\n",
              "      display: none;\n",
              "      fill: #1967D2;\n",
              "      height: 32px;\n",
              "      padding: 0 0 0 0;\n",
              "      width: 32px;\n",
              "    }\n",
              "\n",
              "    .colab-df-convert:hover {\n",
              "      background-color: #E2EBFA;\n",
              "      box-shadow: 0px 1px 2px rgba(60, 64, 67, 0.3), 0px 1px 3px 1px rgba(60, 64, 67, 0.15);\n",
              "      fill: #174EA6;\n",
              "    }\n",
              "\n",
              "    .colab-df-buttons div {\n",
              "      margin-bottom: 4px;\n",
              "    }\n",
              "\n",
              "    [theme=dark] .colab-df-convert {\n",
              "      background-color: #3B4455;\n",
              "      fill: #D2E3FC;\n",
              "    }\n",
              "\n",
              "    [theme=dark] .colab-df-convert:hover {\n",
              "      background-color: #434B5C;\n",
              "      box-shadow: 0px 1px 3px 1px rgba(0, 0, 0, 0.15);\n",
              "      filter: drop-shadow(0px 1px 2px rgba(0, 0, 0, 0.3));\n",
              "      fill: #FFFFFF;\n",
              "    }\n",
              "  </style>\n",
              "\n",
              "    <script>\n",
              "      const buttonEl =\n",
              "        document.querySelector('#df-e399edeb-360d-45d3-947e-7502efee6660 button.colab-df-convert');\n",
              "      buttonEl.style.display =\n",
              "        google.colab.kernel.accessAllowed ? 'block' : 'none';\n",
              "\n",
              "      async function convertToInteractive(key) {\n",
              "        const element = document.querySelector('#df-e399edeb-360d-45d3-947e-7502efee6660');\n",
              "        const dataTable =\n",
              "          await google.colab.kernel.invokeFunction('convertToInteractive',\n",
              "                                                    [key], {});\n",
              "        if (!dataTable) return;\n",
              "\n",
              "        const docLinkHtml = 'Like what you see? Visit the ' +\n",
              "          '<a target=\"_blank\" href=https://colab.research.google.com/notebooks/data_table.ipynb>data table notebook</a>'\n",
              "          + ' to learn more about interactive tables.';\n",
              "        element.innerHTML = '';\n",
              "        dataTable['output_type'] = 'display_data';\n",
              "        await google.colab.output.renderOutput(dataTable, element);\n",
              "        const docLink = document.createElement('div');\n",
              "        docLink.innerHTML = docLinkHtml;\n",
              "        element.appendChild(docLink);\n",
              "      }\n",
              "    </script>\n",
              "  </div>\n",
              "\n",
              "\n",
              "<div id=\"df-821bf3fd-e6d6-4bdd-9048-4172c368900c\">\n",
              "  <button class=\"colab-df-quickchart\" onclick=\"quickchart('df-821bf3fd-e6d6-4bdd-9048-4172c368900c')\"\n",
              "            title=\"Suggest charts\"\n",
              "            style=\"display:none;\">\n",
              "\n",
              "<svg xmlns=\"http://www.w3.org/2000/svg\" height=\"24px\"viewBox=\"0 0 24 24\"\n",
              "     width=\"24px\">\n",
              "    <g>\n",
              "        <path d=\"M19 3H5c-1.1 0-2 .9-2 2v14c0 1.1.9 2 2 2h14c1.1 0 2-.9 2-2V5c0-1.1-.9-2-2-2zM9 17H7v-7h2v7zm4 0h-2V7h2v10zm4 0h-2v-4h2v4z\"/>\n",
              "    </g>\n",
              "</svg>\n",
              "  </button>\n",
              "\n",
              "<style>\n",
              "  .colab-df-quickchart {\n",
              "      --bg-color: #E8F0FE;\n",
              "      --fill-color: #1967D2;\n",
              "      --hover-bg-color: #E2EBFA;\n",
              "      --hover-fill-color: #174EA6;\n",
              "      --disabled-fill-color: #AAA;\n",
              "      --disabled-bg-color: #DDD;\n",
              "  }\n",
              "\n",
              "  [theme=dark] .colab-df-quickchart {\n",
              "      --bg-color: #3B4455;\n",
              "      --fill-color: #D2E3FC;\n",
              "      --hover-bg-color: #434B5C;\n",
              "      --hover-fill-color: #FFFFFF;\n",
              "      --disabled-bg-color: #3B4455;\n",
              "      --disabled-fill-color: #666;\n",
              "  }\n",
              "\n",
              "  .colab-df-quickchart {\n",
              "    background-color: var(--bg-color);\n",
              "    border: none;\n",
              "    border-radius: 50%;\n",
              "    cursor: pointer;\n",
              "    display: none;\n",
              "    fill: var(--fill-color);\n",
              "    height: 32px;\n",
              "    padding: 0;\n",
              "    width: 32px;\n",
              "  }\n",
              "\n",
              "  .colab-df-quickchart:hover {\n",
              "    background-color: var(--hover-bg-color);\n",
              "    box-shadow: 0 1px 2px rgba(60, 64, 67, 0.3), 0 1px 3px 1px rgba(60, 64, 67, 0.15);\n",
              "    fill: var(--button-hover-fill-color);\n",
              "  }\n",
              "\n",
              "  .colab-df-quickchart-complete:disabled,\n",
              "  .colab-df-quickchart-complete:disabled:hover {\n",
              "    background-color: var(--disabled-bg-color);\n",
              "    fill: var(--disabled-fill-color);\n",
              "    box-shadow: none;\n",
              "  }\n",
              "\n",
              "  .colab-df-spinner {\n",
              "    border: 2px solid var(--fill-color);\n",
              "    border-color: transparent;\n",
              "    border-bottom-color: var(--fill-color);\n",
              "    animation:\n",
              "      spin 1s steps(1) infinite;\n",
              "  }\n",
              "\n",
              "  @keyframes spin {\n",
              "    0% {\n",
              "      border-color: transparent;\n",
              "      border-bottom-color: var(--fill-color);\n",
              "      border-left-color: var(--fill-color);\n",
              "    }\n",
              "    20% {\n",
              "      border-color: transparent;\n",
              "      border-left-color: var(--fill-color);\n",
              "      border-top-color: var(--fill-color);\n",
              "    }\n",
              "    30% {\n",
              "      border-color: transparent;\n",
              "      border-left-color: var(--fill-color);\n",
              "      border-top-color: var(--fill-color);\n",
              "      border-right-color: var(--fill-color);\n",
              "    }\n",
              "    40% {\n",
              "      border-color: transparent;\n",
              "      border-right-color: var(--fill-color);\n",
              "      border-top-color: var(--fill-color);\n",
              "    }\n",
              "    60% {\n",
              "      border-color: transparent;\n",
              "      border-right-color: var(--fill-color);\n",
              "    }\n",
              "    80% {\n",
              "      border-color: transparent;\n",
              "      border-right-color: var(--fill-color);\n",
              "      border-bottom-color: var(--fill-color);\n",
              "    }\n",
              "    90% {\n",
              "      border-color: transparent;\n",
              "      border-bottom-color: var(--fill-color);\n",
              "    }\n",
              "  }\n",
              "</style>\n",
              "\n",
              "  <script>\n",
              "    async function quickchart(key) {\n",
              "      const quickchartButtonEl =\n",
              "        document.querySelector('#' + key + ' button');\n",
              "      quickchartButtonEl.disabled = true;  // To prevent multiple clicks.\n",
              "      quickchartButtonEl.classList.add('colab-df-spinner');\n",
              "      try {\n",
              "        const charts = await google.colab.kernel.invokeFunction(\n",
              "            'suggestCharts', [key], {});\n",
              "      } catch (error) {\n",
              "        console.error('Error during call to suggestCharts:', error);\n",
              "      }\n",
              "      quickchartButtonEl.classList.remove('colab-df-spinner');\n",
              "      quickchartButtonEl.classList.add('colab-df-quickchart-complete');\n",
              "    }\n",
              "    (() => {\n",
              "      let quickchartButtonEl =\n",
              "        document.querySelector('#df-821bf3fd-e6d6-4bdd-9048-4172c368900c button');\n",
              "      quickchartButtonEl.style.display =\n",
              "        google.colab.kernel.accessAllowed ? 'block' : 'none';\n",
              "    })();\n",
              "  </script>\n",
              "</div>\n",
              "    </div>\n",
              "  </div>\n"
            ]
          },
          "metadata": {},
          "execution_count": 2
        }
      ]
    },
    {
      "cell_type": "code",
      "source": [
        "df.isnull().sum()"
      ],
      "metadata": {
        "colab": {
          "base_uri": "https://localhost:8080/"
        },
        "id": "-slLnSxuOAEc",
        "outputId": "4a5c0a54-e7c0-4ca6-f8d2-9c76046a07a6"
      },
      "execution_count": null,
      "outputs": [
        {
          "output_type": "execute_result",
          "data": {
            "text/plain": [
              "index            0\n",
              "OS_Time_Stamp    0\n",
              "Temperature      0\n",
              "Pressure         0\n",
              "Humidity         0\n",
              "TimeStamp        0\n",
              "dtype: int64"
            ]
          },
          "metadata": {},
          "execution_count": 3
        }
      ]
    },
    {
      "cell_type": "code",
      "source": [
        "x=df[['Temperature']]\n",
        "y=df[['Pressure']]\n",
        "plt.scatter(x,y,color='b')\n",
        "plt.xlabel('Temperature')\n",
        "plt.ylabel('Pressure')"
      ],
      "metadata": {
        "colab": {
          "base_uri": "https://localhost:8080/",
          "height": 466
        },
        "id": "zofawHLbD6Fh",
        "outputId": "5907bf0c-60cf-4148-89ee-78deb31e20a8"
      },
      "execution_count": null,
      "outputs": [
        {
          "output_type": "execute_result",
          "data": {
            "text/plain": [
              "Text(0, 0.5, 'Pressure')"
            ]
          },
          "metadata": {},
          "execution_count": 4
        },
        {
          "output_type": "display_data",
          "data": {
            "text/plain": [
              "<Figure size 640x480 with 1 Axes>"
            ],
            "image/png": "[encoded data removed]"
          },
          "metadata": {}
        }
      ]
    },
    {
      "cell_type": "code",
      "source": [
        "from sklearn.model_selection import train_test_split\n",
        "x_train,x_test,y_train,y_test=train_test_split(x,y,test_size=0.2,random_state=2)"
      ],
      "metadata": {
        "id": "_3Nur_PqFz7Y"
      },
      "execution_count": null,
      "outputs": []
    },
    {
      "cell_type": "code",
      "source": [
        "# Standardize the features\n",
        "from sklearn.preprocessing import StandardScaler\n",
        "scaler = StandardScaler()\n",
        "x_train = scaler.fit_transform(x_train)\n",
        "x_test = scaler.transform(x_test)"
      ],
      "metadata": {
        "id": "nY0lYoqjLIlZ"
      },
      "execution_count": null,
      "outputs": []
    },
    {
      "cell_type": "code",
      "source": [
        "from sklearn.linear_model import LinearRegression\n",
        "reg_model1=LinearRegression()"
      ],
      "metadata": {
        "id": "0LUMaGGTF7Qm"
      },
      "execution_count": null,
      "outputs": []
    },
    {
      "cell_type": "code",
      "source": [
        "reg_model1.fit(x_train,y_train)"
      ],
      "metadata": {
        "colab": {
          "base_uri": "https://localhost:8080/",
          "height": 74
        },
        "id": "qhpGofl_GJAb",
        "outputId": "9ab3c872-1329-4a7d-93b6-9325abf28501"
      },
      "execution_count": null,
      "outputs": [
        {
          "output_type": "execute_result",
          "data": {
            "text/plain": [
              "LinearRegression()"
            ],
            "text/html": [
              "<style>#sk-container-id-1 {color: black;background-color: white;}#sk-container-id-1 pre{padding: 0;}#sk-container-id-1 div.sk-toggleable {background-color: white;}#sk-container-id-1 label.sk-toggleable__label {cursor: pointer;display: block;width: 100%;margin-bottom: 0;padding: 0.3em;box-sizing: border-box;text-align: center;}#sk-container-id-1 label.sk-toggleable__label-arrow:before {content: \"▸\";float: left;margin-right: 0.25em;color: #696969;}#sk-container-id-1 label.sk-toggleable__label-arrow:hover:before {color: black;}#sk-container-id-1 div.sk-estimator:hover label.sk-toggleable__label-arrow:before {color: black;}#sk-container-id-1 div.sk-toggleable__content {max-height: 0;max-width: 0;overflow: hidden;text-align: left;background-color: #f0f8ff;}#sk-container-id-1 div.sk-toggleable__content pre {margin: 0.2em;color: black;border-radius: 0.25em;background-color: #f0f8ff;}#sk-container-id-1 input.sk-toggleable__control:checked~div.sk-toggleable__content {max-height: 200px;max-width: 100%;overflow: auto;}#sk-container-id-1 input.sk-toggleable__control:checked~label.sk-toggleable__label-arrow:before {content: \"▾\";}#sk-container-id-1 div.sk-estimator input.sk-toggleable__control:checked~label.sk-toggleable__label {background-color: #d4ebff;}#sk-container-id-1 div.sk-label input.sk-toggleable__control:checked~label.sk-toggleable__label {background-color: #d4ebff;}#sk-container-id-1 input.sk-hidden--visually {border: 0;clip: rect(1px 1px 1px 1px);clip: rect(1px, 1px, 1px, 1px);height: 1px;margin: -1px;overflow: hidden;padding: 0;position: absolute;width: 1px;}#sk-container-id-1 div.sk-estimator {font-family: monospace;background-color: #f0f8ff;border: 1px dotted black;border-radius: 0.25em;box-sizing: border-box;margin-bottom: 0.5em;}#sk-container-id-1 div.sk-estimator:hover {background-color: #d4ebff;}#sk-container-id-1 div.sk-parallel-item::after {content: \"\";width: 100%;border-bottom: 1px solid gray;flex-grow: 1;}#sk-container-id-1 div.sk-label:hover label.sk-toggleable__label {background-color: #d4ebff;}#sk-container-id-1 div.sk-serial::before {content: \"\";position: absolute;border-left: 1px solid gray;box-sizing: border-box;top: 0;bottom: 0;left: 50%;z-index: 0;}#sk-container-id-1 div.sk-serial {display: flex;flex-direction: column;align-items: center;background-color: white;padding-right: 0.2em;padding-left: 0.2em;position: relative;}#sk-container-id-1 div.sk-item {position: relative;z-index: 1;}#sk-container-id-1 div.sk-parallel {display: flex;align-items: stretch;justify-content: center;background-color: white;position: relative;}#sk-container-id-1 div.sk-item::before, #sk-container-id-1 div.sk-parallel-item::before {content: \"\";position: absolute;border-left: 1px solid gray;box-sizing: border-box;top: 0;bottom: 0;left: 50%;z-index: -1;}#sk-container-id-1 div.sk-parallel-item {display: flex;flex-direction: column;z-index: 1;position: relative;background-color: white;}#sk-container-id-1 div.sk-parallel-item:first-child::after {align-self: flex-end;width: 50%;}#sk-container-id-1 div.sk-parallel-item:last-child::after {align-self: flex-start;width: 50%;}#sk-container-id-1 div.sk-parallel-item:only-child::after {width: 0;}#sk-container-id-1 div.sk-dashed-wrapped {border: 1px dashed gray;margin: 0 0.4em 0.5em 0.4em;box-sizing: border-box;padding-bottom: 0.4em;background-color: white;}#sk-container-id-1 div.sk-label label {font-family: monospace;font-weight: bold;display: inline-block;line-height: 1.2em;}#sk-container-id-1 div.sk-label-container {text-align: center;}#sk-container-id-1 div.sk-container {/* jupyter's `normalize.less` sets `[hidden] { display: none; }` but bootstrap.min.css set `[hidden] { display: none !important; }` so we also need the `!important` here to be able to override the default hidden behavior on the sphinx rendered scikit-learn.org. See: https://github.com/scikit-learn/scikit-learn/issues/21755 */display: inline-block !important;position: relative;}#sk-container-id-1 div.sk-text-repr-fallback {display: none;}</style><div id=\"sk-container-id-1\" class=\"sk-top-container\"><div class=\"sk-text-repr-fallback\"><pre>LinearRegression()</pre><b>In a Jupyter environment, please rerun this cell to show the HTML representation or trust the notebook. <br />On GitHub, the HTML representation is unable to render, please try loading this page with nbviewer.org.</b></div><div class=\"sk-container\" hidden><div class=\"sk-item\"><div class=\"sk-estimator sk-toggleable\"><input class=\"sk-toggleable__control sk-hidden--visually\" id=\"sk-estimator-id-1\" type=\"checkbox\" checked><label for=\"sk-estimator-id-1\" class=\"sk-toggleable__label sk-toggleable__label-arrow\">LinearRegression</label><div class=\"sk-toggleable__content\"><pre>LinearRegression()</pre></div></div></div></div></div>"
            ]
          },
          "metadata": {},
          "execution_count": 8
        }
      ]
    },
    {
      "cell_type": "code",
      "source": [
        "from sklearn.metrics import r2_score\n",
        "score1=r2_score(y_test,reg_model1.predict(x_test))\n",
        "print(score1)"
      ],
      "metadata": {
        "colab": {
          "base_uri": "https://localhost:8080/"
        },
        "id": "DsFZMB0rGMv3",
        "outputId": "2d5048d8-b70e-46c9-fc24-efe4d5885214"
      },
      "execution_count": null,
      "outputs": [
        {
          "output_type": "stream",
          "name": "stdout",
          "text": [
            "0.5485949056460258\n"
          ]
        }
      ]
    },
    {
      "cell_type": "code",
      "source": [
        "plt.scatter(x_train,reg_model1.predict(x_train),color='r')#plt.plot(x_train,reg_model1.predict(x_train),color='r')\n",
        "plt.scatter(x_train,y_train)\n",
        "plt.xlabel(\"x_values\")\n",
        "plt.ylabel(\"y_values\")"
      ],
      "metadata": {
        "colab": {
          "base_uri": "https://localhost:8080/",
          "height": 467
        },
        "id": "WsrCCvm3GQbo",
        "outputId": "7530b71b-b1d7-4da4-817e-ca764d9793d3"
      },
      "execution_count": null,
      "outputs": [
        {
          "output_type": "execute_result",
          "data": {
            "text/plain": [
              "Text(0, 0.5, 'y_values')"
            ]
          },
          "metadata": {},
          "execution_count": 10
        },
        {
          "output_type": "display_data",
          "data": {
            "text/plain": [
              "<Figure size 640x480 with 1 Axes>"
            ],
            "image/png": "[encoded data removed]"
          },
          "metadata": {}
        }
      ]
    },
    {
      "cell_type": "markdown",
      "source": [
        "POLYNOMIAL REGRESSION"
      ],
      "metadata": {
        "id": "fT9KQv-zGgWC"
      }
    },
    {
      "cell_type": "code",
      "source": [
        "from sklearn.preprocessing import PolynomialFeatures\n",
        "from sklearn.model_selection import train_test_split\n",
        "x_train,x_test,y_train,y_test=train_test_split(x,y,test_size=0.44,random_state=2)"
      ],
      "metadata": {
        "id": "_8rcWAjuGbDR"
      },
      "execution_count": null,
      "outputs": []
    },
    {
      "cell_type": "code",
      "source": [
        "#2 degree\n",
        "p=PolynomialFeatures(degree=2,include_bias=True)\n",
        "x_train_p=p.fit_transform(x_train)\n",
        "x_test_p=p.fit_transform(x_test)"
      ],
      "metadata": {
        "id": "guo0S66gGofC"
      },
      "execution_count": null,
      "outputs": []
    },
    {
      "cell_type": "code",
      "source": [
        "reg_model2=LinearRegression()\n",
        "reg_model2.fit(x_train_p,y_train)\n"
      ],
      "metadata": {
        "id": "XBO1wzreGtV1",
        "colab": {
          "base_uri": "https://localhost:8080/",
          "height": 74
        },
        "outputId": "b20a19d5-e036-41f3-c0bb-645853fb6bee"
      },
      "execution_count": null,
      "outputs": [
        {
          "output_type": "execute_result",
          "data": {
            "text/plain": [
              "LinearRegression()"
            ],
            "text/html": [
              "<style>#sk-container-id-2 {color: black;background-color: white;}#sk-container-id-2 pre{padding: 0;}#sk-container-id-2 div.sk-toggleable {background-color: white;}#sk-container-id-2 label.sk-toggleable__label {cursor: pointer;display: block;width: 100%;margin-bottom: 0;padding: 0.3em;box-sizing: border-box;text-align: center;}#sk-container-id-2 label.sk-toggleable__label-arrow:before {content: \"▸\";float: left;margin-right: 0.25em;color: #696969;}#sk-container-id-2 label.sk-toggleable__label-arrow:hover:before {color: black;}#sk-container-id-2 div.sk-estimator:hover label.sk-toggleable__label-arrow:before {color: black;}#sk-container-id-2 div.sk-toggleable__content {max-height: 0;max-width: 0;overflow: hidden;text-align: left;background-color: #f0f8ff;}#sk-container-id-2 div.sk-toggleable__content pre {margin: 0.2em;color: black;border-radius: 0.25em;background-color: #f0f8ff;}#sk-container-id-2 input.sk-toggleable__control:checked~div.sk-toggleable__content {max-height: 200px;max-width: 100%;overflow: auto;}#sk-container-id-2 input.sk-toggleable__control:checked~label.sk-toggleable__label-arrow:before {content: \"▾\";}#sk-container-id-2 div.sk-estimator input.sk-toggleable__control:checked~label.sk-toggleable__label {background-color: #d4ebff;}#sk-container-id-2 div.sk-label input.sk-toggleable__control:checked~label.sk-toggleable__label {background-color: #d4ebff;}#sk-container-id-2 input.sk-hidden--visually {border: 0;clip: rect(1px 1px 1px 1px);clip: rect(1px, 1px, 1px, 1px);height: 1px;margin: -1px;overflow: hidden;padding: 0;position: absolute;width: 1px;}#sk-container-id-2 div.sk-estimator {font-family: monospace;background-color: #f0f8ff;border: 1px dotted black;border-radius: 0.25em;box-sizing: border-box;margin-bottom: 0.5em;}#sk-container-id-2 div.sk-estimator:hover {background-color: #d4ebff;}#sk-container-id-2 div.sk-parallel-item::after {content: \"\";width: 100%;border-bottom: 1px solid gray;flex-grow: 1;}#sk-container-id-2 div.sk-label:hover label.sk-toggleable__label {background-color: #d4ebff;}#sk-container-id-2 div.sk-serial::before {content: \"\";position: absolute;border-left: 1px solid gray;box-sizing: border-box;top: 0;bottom: 0;left: 50%;z-index: 0;}#sk-container-id-2 div.sk-serial {display: flex;flex-direction: column;align-items: center;background-color: white;padding-right: 0.2em;padding-left: 0.2em;position: relative;}#sk-container-id-2 div.sk-item {position: relative;z-index: 1;}#sk-container-id-2 div.sk-parallel {display: flex;align-items: stretch;justify-content: center;background-color: white;position: relative;}#sk-container-id-2 div.sk-item::before, #sk-container-id-2 div.sk-parallel-item::before {content: \"\";position: absolute;border-left: 1px solid gray;box-sizing: border-box;top: 0;bottom: 0;left: 50%;z-index: -1;}#sk-container-id-2 div.sk-parallel-item {display: flex;flex-direction: column;z-index: 1;position: relative;background-color: white;}#sk-container-id-2 div.sk-parallel-item:first-child::after {align-self: flex-end;width: 50%;}#sk-container-id-2 div.sk-parallel-item:last-child::after {align-self: flex-start;width: 50%;}#sk-container-id-2 div.sk-parallel-item:only-child::after {width: 0;}#sk-container-id-2 div.sk-dashed-wrapped {border: 1px dashed gray;margin: 0 0.4em 0.5em 0.4em;box-sizing: border-box;padding-bottom: 0.4em;background-color: white;}#sk-container-id-2 div.sk-label label {font-family: monospace;font-weight: bold;display: inline-block;line-height: 1.2em;}#sk-container-id-2 div.sk-label-container {text-align: center;}#sk-container-id-2 div.sk-container {/* jupyter's `normalize.less` sets `[hidden] { display: none; }` but bootstrap.min.css set `[hidden] { display: none !important; }` so we also need the `!important` here to be able to override the default hidden behavior on the sphinx rendered scikit-learn.org. See: https://github.com/scikit-learn/scikit-learn/issues/21755 */display: inline-block !important;position: relative;}#sk-container-id-2 div.sk-text-repr-fallback {display: none;}</style><div id=\"sk-container-id-2\" class=\"sk-top-container\"><div class=\"sk-text-repr-fallback\"><pre>LinearRegression()</pre><b>In a Jupyter environment, please rerun this cell to show the HTML representation or trust the notebook. <br />On GitHub, the HTML representation is unable to render, please try loading this page with nbviewer.org.</b></div><div class=\"sk-container\" hidden><div class=\"sk-item\"><div class=\"sk-estimator sk-toggleable\"><input class=\"sk-toggleable__control sk-hidden--visually\" id=\"sk-estimator-id-2\" type=\"checkbox\" checked><label for=\"sk-estimator-id-2\" class=\"sk-toggleable__label sk-toggleable__label-arrow\">LinearRegression</label><div class=\"sk-toggleable__content\"><pre>LinearRegression()</pre></div></div></div></div></div>"
            ]
          },
          "metadata": {},
          "execution_count": 13
        }
      ]
    },
    {
      "cell_type": "code",
      "source": [
        "y_pred2=reg_model2.predict(x_test_p)\n",
        "score2=r2_score(y_test,y_pred2)"
      ],
      "metadata": {
        "id": "v77s_HNCJuG9"
      },
      "execution_count": null,
      "outputs": []
    },
    {
      "cell_type": "code",
      "source": [
        "score2"
      ],
      "metadata": {
        "colab": {
          "base_uri": "https://localhost:8080/"
        },
        "id": "rsgqsVEZGy2h",
        "outputId": "f819f20f-59e7-4257-baf7-f1b04574cfb9"
      },
      "execution_count": null,
      "outputs": [
        {
          "output_type": "execute_result",
          "data": {
            "text/plain": [
              "0.6227824300515465"
            ]
          },
          "metadata": {},
          "execution_count": 15
        }
      ]
    },
    {
      "cell_type": "code",
      "source": [
        "print(\"coefficient:\",reg_model2.coef_)\n",
        "print(\"Interception:\",reg_model2.intercept_)"
      ],
      "metadata": {
        "colab": {
          "base_uri": "https://localhost:8080/"
        },
        "id": "HFaOkEIkG308",
        "outputId": "7c4684c0-b8b1-4997-fdd2-3f7d5e167634"
      },
      "execution_count": null,
      "outputs": [
        {
          "output_type": "stream",
          "name": "stdout",
          "text": [
            "coefficient: [[ 0.          4.03563106 -0.11599959]]\n",
            "Interception: [978.92060031]\n"
          ]
        }
      ]
    },
    {
      "cell_type": "code",
      "source": [
        "#3 degree\n",
        "print(\"polynomial regression with degree 3\")\n",
        "p=PolynomialFeatures(degree=3,include_bias=True)\n",
        "x_train_p3=p.fit_transform(x_train)\n",
        "x_test_p3=p.fit_transform(x_test)\n",
        "\n",
        "reg_model3=LinearRegression()\n",
        "reg_model3.fit(x_train_p3,y_train)\n",
        "\n",
        "y_pred3=reg_model3.predict(x_test_p3)\n",
        "score3=r2_score(y_test,y_pred3)\n",
        "\n",
        "print('R2 Score:',score3)\n",
        "print(\"coefficient:\",reg_model3.coef_)\n",
        "print(\"Interception:\",reg_model3.intercept_)\n",
        "print('-------------------------------------')\n",
        "#4 degree\n",
        "print(\"polynomial regression with degree 4\")\n",
        "p=PolynomialFeatures(degree=4,include_bias=True)\n",
        "x_train_p4=p.fit_transform(x_train)\n",
        "x_test_p4=p.fit_transform(x_test)\n",
        "\n",
        "reg_model4=LinearRegression()\n",
        "reg_model4.fit(x_train_p4,y_train)\n",
        "\n",
        "y_pred4=reg_model4.predict(x_test_p4)\n",
        "score4=r2_score(y_test,y_pred4)\n",
        "\n",
        "print('R2 Score:',score4)\n",
        "print(\"coefficient:\",reg_model4.coef_)\n",
        "print(\"Interception:\",reg_model4.intercept_)\n",
        "print('-------------------------------------')\n",
        "\n",
        "#5 degree\n",
        "print(\"polynomial regression with degree 5\")\n",
        "p=PolynomialFeatures(degree=5,include_bias=True)\n",
        "x_train_p5=p.fit_transform(x_train)\n",
        "x_test_p5=p.fit_transform(x_test)\n",
        "\n",
        "reg_model5=LinearRegression()\n",
        "reg_model5.fit(x_train_p5,y_train)\n",
        "\n",
        "y_pred5=reg_model5.predict(x_test_p5)\n",
        "score5=r2_score(y_test,y_pred5)\n",
        "\n",
        "print('R2 Score:',score5)\n",
        "print(\"coefficient:\",reg_model5.coef_)\n",
        "print(\"Interception:\",reg_model5.intercept_)\n",
        "print('-------------------------------------')\n",
        "\n",
        "#6 degree\n",
        "print(\"polynomial regression with degree 6\")\n",
        "p=PolynomialFeatures(degree=6,include_bias=True)\n",
        "x_train_p6=p.fit_transform(x_train)\n",
        "x_test_p6=p.fit_transform(x_test)\n",
        "\n",
        "reg_model6=LinearRegression()\n",
        "reg_model6.fit(x_train_p6,y_train)\n",
        "\n",
        "y_pred6=reg_model6.predict(x_test_p6)\n",
        "score6=r2_score(y_test,y_pred6)\n",
        "\n",
        "print('R2 Score:',score6)\n",
        "print(\"coefficient:\",reg_model6.coef_)\n",
        "print(\"Interception:\",reg_model6.intercept_)\n",
        "print('-------------------------------------')\n",
        "\n",
        "#7 degree\n",
        "print(\"polynomial regression with degree 7\")\n",
        "p=PolynomialFeatures(degree=7,include_bias=True)\n",
        "x_train_p7=p.fit_transform(x_train)\n",
        "x_test_p7=p.fit_transform(x_test)\n",
        "\n",
        "reg_model7=LinearRegression()\n",
        "reg_model7.fit(x_train_p7,y_train)\n",
        "\n",
        "y_pred7=reg_model7.predict(x_test_p7)\n",
        "score7=r2_score(y_test,y_pred7)\n",
        "\n",
        "print('R2 Score:',score7)\n",
        "print(\"coefficient:\",reg_model7.coef_)\n",
        "print(\"Interception:\",reg_model7.intercept_)\n",
        "print('-------------------------------------')\n"
      ],
      "metadata": {
        "colab": {
          "base_uri": "https://localhost:8080/"
        },
        "id": "-8Tg9zqaagtU",
        "outputId": "f577a08c-a094-48c3-cb3e-2dfc4f033417"
      },
      "execution_count": null,
      "outputs": [
        {
          "output_type": "stream",
          "name": "stdout",
          "text": [
            "polynomial regression with degree 3\n",
            "R2 Score: 0.6414385593878376\n",
            "coefficient: [[ 0.00000000e+00  2.51469883e+01 -1.06182396e+00  1.37413712e-02]]\n",
            "Interception: [826.8125987]\n",
            "-------------------------------------\n",
            "polynomial regression with degree 4\n",
            "R2 Score: 0.6708937170554312\n",
            "coefficient: [[ 0.00000000e+00 -1.94591793e+02  1.37987241e+01 -4.23768434e-01\n",
            "   4.73950100e-03]]\n",
            "Interception: [2018.45781339]\n",
            "-------------------------------------\n",
            "polynomial regression with degree 5\n",
            "R2 Score: 0.6802023789792189\n",
            "coefficient: [[ 0.00000000e+00 -1.14984568e+03  1.00759789e+02 -4.31815814e+00\n",
            "   9.05954629e-02 -7.46050407e-04]]\n",
            "Interception: [6146.02810409]\n",
            "-------------------------------------\n",
            "polynomial regression with degree 6\n",
            "R2 Score: 0.6913510008375959\n",
            "coefficient: [[ 0.00000000e+00  4.33218955e+03 -5.24933564e+02  3.32676935e+01\n",
            "  -1.16320018e+00  2.12859685e-02 -1.59414828e-04]]\n",
            "Interception: [-13598.05392753]\n",
            "-------------------------------------\n",
            "polynomial regression with degree 7\n",
            "R2 Score: 0.6976671015245146\n",
            "coefficient: [[ 0.00000000e+00 -2.60574666e+04  3.64260165e+03 -2.80687831e+02\n",
            "   1.28719516e+01 -3.51151876e-01  5.27436542e-03 -3.36371486e-05]]\n",
            "Interception: [80295.41721529]\n",
            "-------------------------------------\n"
          ]
        }
      ]
    },
    {
      "cell_type": "code",
      "source": [
        "plt.scatter(x_train,reg_model6.predict(x_train_p6),color='r')\n",
        "plt.scatter(x_train,y_train)\n",
        "plt.xlabel(\"x-values\")\n",
        "plt.ylabel(\"y-values\")\n",
        "\n",
        "\n"
      ],
      "metadata": {
        "colab": {
          "base_uri": "https://localhost:8080/",
          "height": 466
        },
        "id": "XCNomx8KHYAZ",
        "outputId": "443efaf6-6a98-4708-e61f-4cc01e782d3e"
      },
      "execution_count": null,
      "outputs": [
        {
          "output_type": "execute_result",
          "data": {
            "text/plain": [
              "Text(0, 0.5, 'y-values')"
            ]
          },
          "metadata": {},
          "execution_count": 58
        },
        {
          "output_type": "display_data",
          "data": {
            "text/plain": [
              "<Figure size 640x480 with 1 Axes>"
            ],
            "image/png": "[encoded data removed]"
          },
          "metadata": {}
        }
      ]
    },
    {
      "cell_type": "code",
      "source": [
        "from sklearn.model_selection import train_test_split\n",
        "x_train,x_test,y_train,y_test=train_test_split(x,y,test_size=0.3,random_state=2)"
      ],
      "metadata": {
        "id": "Q_dLYSv_Xtv5"
      },
      "execution_count": null,
      "outputs": []
    },
    {
      "cell_type": "code",
      "source": [
        "#2 degree\n",
        "print(\"polynomial regression with degree 2\")\n",
        "p=PolynomialFeatures(degree=2,include_bias=True)\n",
        "x_train_p22=p.fit_transform(x_train)\n",
        "x_test_p22=p.fit_transform(x_test)\n",
        "\n",
        "reg_model22=LinearRegression()\n",
        "reg_model22.fit(x_train_p22,y_train)\n",
        "\n",
        "y_pred22=reg_model22.predict(x_test_p22)\n",
        "score22=r2_score(y_test,y_pred22)\n",
        "\n",
        "print('R2 Score:',score22)\n",
        "print(\"coefficient:\",reg_model22.coef_)\n",
        "print(\"Interception:\",reg_model22.intercept_)\n",
        "print('-------------------------------------')\n",
        "#3 degree\n",
        "print(\"polynomial regression with degree 3\")\n",
        "p=PolynomialFeatures(degree=3,include_bias=True)\n",
        "x_train_p23=p.fit_transform(x_train)\n",
        "x_test_p23=p.fit_transform(x_test)\n",
        "\n",
        "reg_model23=LinearRegression()\n",
        "reg_model23.fit(x_train_p23,y_train)\n",
        "\n",
        "y_pred23=reg_model23.predict(x_test_p23)\n",
        "score23=r2_score(y_test,y_pred23)\n",
        "\n",
        "print('R2 Score:',score23)\n",
        "print(\"coefficient:\",reg_model23.coef_)\n",
        "print(\"Interception:\",reg_model23.intercept_)\n",
        "print('-------------------------------------')\n",
        "#4 degree\n",
        "print(\"polynomial regression with degree 4\")\n",
        "p=PolynomialFeatures(degree=4,include_bias=True)\n",
        "x_train_p24=p.fit_transform(x_train)\n",
        "x_test_p24=p.fit_transform(x_test)\n",
        "\n",
        "reg_model24=LinearRegression()\n",
        "reg_model24.fit(x_train_p24,y_train)\n",
        "\n",
        "y_pred24=reg_model24.predict(x_test_p24)\n",
        "score24=r2_score(y_test,y_pred24)\n",
        "\n",
        "print('R2 Score:',score24)\n",
        "print(\"coefficient:\",reg_model24.coef_)\n",
        "print(\"Interception:\",reg_model24.intercept_)\n",
        "print('-------------------------------------')\n",
        "\n",
        "#5 degree\n",
        "print(\"polynomial regression with degree 5\")\n",
        "p=PolynomialFeatures(degree=5,include_bias=True)\n",
        "x_train_p25=p.fit_transform(x_train)\n",
        "x_test_p25=p.fit_transform(x_test)\n",
        "\n",
        "reg_model25=LinearRegression()\n",
        "reg_model25.fit(x_train_p25,y_train)\n",
        "\n",
        "y_pred25=reg_model25.predict(x_test_p25)\n",
        "score25=r2_score(y_test,y_pred25)\n",
        "\n",
        "print('R2 Score:',score25)\n",
        "print(\"coefficient:\",reg_model25.coef_)\n",
        "print(\"Interception:\",reg_model25.intercept_)\n",
        "print('-------------------------------------')\n",
        "\n",
        "#6 degree\n",
        "print(\"polynomial regression with degree 6\")\n",
        "p=PolynomialFeatures(degree=6,include_bias=True)\n",
        "x_train_p26=p.fit_transform(x_train)\n",
        "x_test_p26=p.fit_transform(x_test)\n",
        "\n",
        "reg_model26=LinearRegression()\n",
        "reg_model26.fit(x_train_p26,y_train)\n",
        "\n",
        "y_pred26=reg_model26.predict(x_test_p26)\n",
        "score26=r2_score(y_test,y_pred26)\n",
        "\n",
        "print('R2 Score:',score26)\n",
        "print(\"coefficient:\",reg_model26.coef_)\n",
        "print(\"Interception:\",reg_model26.intercept_)\n",
        "print('-------------------------------------')\n",
        "\n",
        "#7 degree\n",
        "print(\"polynomial regression with degree 7\")\n",
        "p=PolynomialFeatures(degree=7,include_bias=True)\n",
        "x_train_p27=p.fit_transform(x_train)\n",
        "x_test_p27=p.fit_transform(x_test)\n",
        "\n",
        "reg_model27=LinearRegression()\n",
        "reg_model27.fit(x_train_p27,y_train)\n",
        "\n",
        "y_pred27=reg_model27.predict(x_test_p27)\n",
        "score27=r2_score(y_test,y_pred27)\n",
        "\n",
        "print('R2 Score:',score27)\n",
        "print(\"coefficient:\",reg_model27.coef_)\n",
        "print(\"Interception:\",reg_model27.intercept_)\n",
        "print('-------------------------------------')"
      ],
      "metadata": {
        "id": "Sz5WTM77Hzb8",
        "colab": {
          "base_uri": "https://localhost:8080/"
        },
        "outputId": "9d8b5635-5454-4c35-9c97-4e706eb6d544"
      },
      "execution_count": null,
      "outputs": [
        {
          "output_type": "stream",
          "name": "stdout",
          "text": [
            "polynomial regression with degree 2\n",
            "R2 Score: 0.6172677279014688\n",
            "coefficient: [[ 0.          3.98743662 -0.11485236]]\n",
            "Interception: [979.35382648]\n",
            "-------------------------------------\n",
            "polynomial regression with degree 3\n",
            "R2 Score: 0.6414385593878376\n",
            "coefficient: [[ 0.00000000e+00  2.51469883e+01 -1.06182396e+00  1.37413712e-02]]\n",
            "Interception: [826.8125987]\n",
            "-------------------------------------\n",
            "polynomial regression with degree 4\n",
            "R2 Score: 0.6708937170554312\n",
            "coefficient: [[ 0.00000000e+00 -1.94591793e+02  1.37987241e+01 -4.23768434e-01\n",
            "   4.73950100e-03]]\n",
            "Interception: [2018.45781339]\n",
            "-------------------------------------\n",
            "polynomial regression with degree 5\n",
            "R2 Score: 0.6802023789792189\n",
            "coefficient: [[ 0.00000000e+00 -1.14984568e+03  1.00759789e+02 -4.31815814e+00\n",
            "   9.05954629e-02 -7.46050407e-04]]\n",
            "Interception: [6146.02810409]\n",
            "-------------------------------------\n",
            "polynomial regression with degree 6\n",
            "R2 Score: 0.6913510008375959\n",
            "coefficient: [[ 0.00000000e+00  4.33218955e+03 -5.24933564e+02  3.32676935e+01\n",
            "  -1.16320018e+00  2.12859685e-02 -1.59414828e-04]]\n",
            "Interception: [-13598.05392753]\n",
            "-------------------------------------\n",
            "polynomial regression with degree 7\n",
            "R2 Score: 0.6976671015245146\n",
            "coefficient: [[ 0.00000000e+00 -2.60574666e+04  3.64260165e+03 -2.80687831e+02\n",
            "   1.28719516e+01 -3.51151876e-01  5.27436542e-03 -3.36371486e-05]]\n",
            "Interception: [80295.41721529]\n",
            "-------------------------------------\n"
          ]
        }
      ]
    },
    {
      "cell_type": "code",
      "source": [
        "plt.scatter(x_train,reg_model26.predict(x_train_p26),color='r')\n",
        "plt.scatter(x_train,y_train)\n",
        "plt.xlabel(\"x-values\")\n",
        "plt.ylabel(\"y-values\")"
      ],
      "metadata": {
        "colab": {
          "base_uri": "https://localhost:8080/",
          "height": 466
        },
        "id": "bMoatrgpKUeO",
        "outputId": "a506a4f2-384e-4e0b-cbb3-3fbc91b55998"
      },
      "execution_count": null,
      "outputs": [
        {
          "output_type": "execute_result",
          "data": {
            "text/plain": [
              "Text(0, 0.5, 'y-values')"
            ]
          },
          "metadata": {},
          "execution_count": 61
        },
        {
          "output_type": "display_data",
          "data": {
            "text/plain": [
              "<Figure size 640x480 with 1 Axes>"
            ],
            "image/png": "[encoded data removed]"
          },
          "metadata": {}
        }
      ]
    },
    {
      "cell_type": "code",
      "source": [
        "from sklearn.model_selection import train_test_split\n",
        "x_train,x_test,y_train,y_test=train_test_split(x,y,test_size=0.2,random_state=2)"
      ],
      "metadata": {
        "id": "pHTyDht6YB-K"
      },
      "execution_count": null,
      "outputs": []
    },
    {
      "cell_type": "code",
      "source": [
        "#2 degree\n",
        "print(\"polynomial regression with degree 2\")\n",
        "p=PolynomialFeatures(degree=2,include_bias=True)\n",
        "x_train_p32=p.fit_transform(x_train)\n",
        "x_test_p32=p.fit_transform(x_test)\n",
        "\n",
        "reg_model32=LinearRegression()\n",
        "reg_model32.fit(x_train_p32,y_train)\n",
        "\n",
        "y_pred32=reg_model32.predict(x_test_p32)\n",
        "score32=r2_score(y_test,y_pred32)\n",
        "\n",
        "print('R2 Score:',score32)\n",
        "print(\"coefficient:\",reg_model32.coef_)\n",
        "print(\"Interception:\",reg_model32.intercept_)\n",
        "print('-------------------------------------')\n",
        "#3 degree\n",
        "print(\"polynomial regression with degree 3\")\n",
        "p=PolynomialFeatures(degree=3,include_bias=True)\n",
        "x_train_p33=p.fit_transform(x_train)\n",
        "x_test_p33=p.fit_transform(x_test)\n",
        "\n",
        "reg_model33=LinearRegression()\n",
        "reg_model33.fit(x_train_p33,y_train)\n",
        "\n",
        "y_pred33=reg_model33.predict(x_test_p33)\n",
        "score33=r2_score(y_test,y_pred33)\n",
        "\n",
        "print('R2 Score:',score33)\n",
        "print(\"coefficient:\",reg_model33.coef_)\n",
        "print(\"Interception:\",reg_model33.intercept_)\n",
        "print('-------------------------------------')\n",
        "#4 degree\n",
        "print(\"polynomial regression with degree 4\")\n",
        "p=PolynomialFeatures(degree=4,include_bias=True)\n",
        "x_train_p34=p.fit_transform(x_train)\n",
        "x_test_p34=p.fit_transform(x_test)\n",
        "\n",
        "reg_model34=LinearRegression()\n",
        "reg_model34.fit(x_train_p34,y_train)\n",
        "\n",
        "y_pred34=reg_model34.predict(x_test_p34)\n",
        "score34=r2_score(y_test,y_pred34)\n",
        "\n",
        "print('R2 Score:',score34)\n",
        "print(\"coefficient:\",reg_model34.coef_)\n",
        "print(\"Interception:\",reg_model34.intercept_)\n",
        "print('-------------------------------------')\n",
        "\n",
        "#5 degree\n",
        "print(\"polynomial regression with degree 5\")\n",
        "p=PolynomialFeatures(degree=5,include_bias=True)\n",
        "x_train_p35=p.fit_transform(x_train)\n",
        "x_test_p35=p.fit_transform(x_test)\n",
        "\n",
        "reg_model35=LinearRegression()\n",
        "reg_model35.fit(x_train_p35,y_train)\n",
        "\n",
        "y_pred35=reg_model35.predict(x_test_p35)\n",
        "score35=r2_score(y_test,y_pred35)\n",
        "\n",
        "print('R2 Score:',score35)\n",
        "print(\"coefficient:\",reg_model35.coef_)\n",
        "print(\"Interception:\",reg_model35.intercept_)\n",
        "print('-------------------------------------')\n",
        "\n",
        "#6 degree\n",
        "print(\"polynomial regression with degree 6\")\n",
        "p=PolynomialFeatures(degree=6,include_bias=True)\n",
        "x_train_p36=p.fit_transform(x_train)\n",
        "x_test_p36=p.fit_transform(x_test)\n",
        "\n",
        "reg_model36=LinearRegression()\n",
        "reg_model36.fit(x_train_p26,y_train)\n",
        "\n",
        "y_pred36=reg_model36.predict(x_test_p36)\n",
        "score36=r2_score(y_test,y_pred36)\n",
        "\n",
        "print('R2 Score:',score36)\n",
        "print(\"coefficient:\",reg_model36.coef_)\n",
        "print(\"Interception:\",reg_model36.intercept_)\n",
        "print('-------------------------------------')\n",
        "\n",
        "#7 degree\n",
        "print(\"polynomial regression with degree 7\")\n",
        "p=PolynomialFeatures(degree=7,include_bias=True)\n",
        "x_train_p37=p.fit_transform(x_train)\n",
        "x_test_p37=p.fit_transform(x_test)\n",
        "\n",
        "reg_model37=LinearRegression()\n",
        "reg_model37.fit(x_train_p37,y_train)\n",
        "\n",
        "y_pred37=reg_model37.predict(x_test_p37)\n",
        "score37=r2_score(y_test,y_pred37)\n",
        "\n",
        "print('R2 Score:',score37)\n",
        "print(\"coefficient:\",reg_model37.coef_)\n",
        "print(\"Interception:\",reg_model37.intercept_)\n",
        "print('-------------------------------------')"
      ],
      "metadata": {
        "colab": {
          "base_uri": "https://localhost:8080/"
        },
        "id": "NEEOLaiAipme",
        "outputId": "19910285-bb0b-4afa-9e51-6f682fc60efa"
      },
      "execution_count": null,
      "outputs": [
        {
          "output_type": "stream",
          "name": "stdout",
          "text": [
            "polynomial regression with degree 2\n",
            "R2 Score: 0.6172677279014688\n",
            "coefficient: [[ 0.          3.98743662 -0.11485236]]\n",
            "Interception: [979.35382648]\n",
            "-------------------------------------\n",
            "polynomial regression with degree 3\n",
            "R2 Score: 0.6414385593878376\n",
            "coefficient: [[ 0.00000000e+00  2.51469883e+01 -1.06182396e+00  1.37413712e-02]]\n",
            "Interception: [826.8125987]\n",
            "-------------------------------------\n",
            "polynomial regression with degree 4\n",
            "R2 Score: 0.6708937170554312\n",
            "coefficient: [[ 0.00000000e+00 -1.94591793e+02  1.37987241e+01 -4.23768434e-01\n",
            "   4.73950100e-03]]\n",
            "Interception: [2018.45781339]\n",
            "-------------------------------------\n",
            "polynomial regression with degree 5\n",
            "R2 Score: 0.6802023789792189\n",
            "coefficient: [[ 0.00000000e+00 -1.14984568e+03  1.00759789e+02 -4.31815814e+00\n",
            "   9.05954629e-02 -7.46050407e-04]]\n",
            "Interception: [6146.02810409]\n",
            "-------------------------------------\n",
            "polynomial regression with degree 6\n",
            "R2 Score: 0.6913510008375959\n",
            "coefficient: [[ 0.00000000e+00  4.33218955e+03 -5.24933564e+02  3.32676935e+01\n",
            "  -1.16320018e+00  2.12859685e-02 -1.59414828e-04]]\n",
            "Interception: [-13598.05392753]\n",
            "-------------------------------------\n",
            "polynomial regression with degree 7\n",
            "R2 Score: 0.6976671015245146\n",
            "coefficient: [[ 0.00000000e+00 -2.60574666e+04  3.64260165e+03 -2.80687831e+02\n",
            "   1.28719516e+01 -3.51151876e-01  5.27436542e-03 -3.36371486e-05]]\n",
            "Interception: [80295.41721529]\n",
            "-------------------------------------\n"
          ]
        }
      ]
    },
    {
      "cell_type": "code",
      "source": [
        "plt.scatter(x_train,reg_model37.predict(x_train_p37),color='r')\n",
        "plt.scatter(x_train,y_train)\n",
        "plt.xlabel(\"x-values\")\n",
        "plt.ylabel(\"y-values\")"
      ],
      "metadata": {
        "colab": {
          "base_uri": "https://localhost:8080/",
          "height": 466
        },
        "id": "4YpFM5fQQR8K",
        "outputId": "5a8e9374-16e0-4e00-d164-c040968d4521"
      },
      "execution_count": null,
      "outputs": [
        {
          "output_type": "execute_result",
          "data": {
            "text/plain": [
              "Text(0, 0.5, 'y-values')"
            ]
          },
          "metadata": {},
          "execution_count": 68
        },
        {
          "output_type": "display_data",
          "data": {
            "text/plain": [
              "<Figure size 640x480 with 1 Axes>"
            ],
            "image/png": "[encoded data removed]"
          },
          "metadata": {}
        }
      ]
    },
    {
      "cell_type": "markdown",
      "source": [
        "From these plolynomial regression done for different test sizes with different degrees,The maximum R-square value is got for test size 20 with degree 7.the R2 obtained for that case was 0.6976.It is clear from the scatterplot that ,Eventhough it fails to predict accurately it almost pass through the actual data points."
      ],
      "metadata": {
        "id": "MtjXHUFvmhAQ"
      }
    }
  ]
}